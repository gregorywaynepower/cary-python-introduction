{
 "cells": [
  {
   "cell_type": "markdown",
   "metadata": {},
   "source": [
    "Now we can get into the Dash App portion of the talk.\n",
    "Here's a couple of examples\n",
    "- [CRISPR inDelphi](https://indelphi.giffordlab.mit.edu/guide)\n",
    "- [Springer Nature Labs Computational Sociel Science Explorer](https://dash.springernature.com/nature-insights-css/)"
   ]
  },
  {
   "cell_type": "code",
   "execution_count": null,
   "metadata": {},
   "outputs": [],
   "source": [
    "# v1 - text input drives text output\n",
    "\n",
    "\n",
    "from jupyter_dash import JupyterDash\n",
    "from dash import html\n",
    "from dash import dcc\n",
    "from dash.dependencies import Input, Output\n",
    "\n",
    "app = JupyterDash(__name__)\n",
    "\n",
    "app.layout = html.Div(children = [\n",
    "  html.H1(id=\"the_output\"),\n",
    "  dcc.Input(id=\"the_input\")\n",
    "])\n",
    "\n",
    "@app.callback(Output('the_output', 'children'),\n",
    "              Input('the_input', 'value'))\n",
    "def cb(input_value):\n",
    "    return \"Hello %s!\" % (input_value or \"World\")\n",
    "\n",
    "app.run_server(mode=\"jupyterlab\")"
   ]
  },
  {
   "cell_type": "code",
   "execution_count": null,
   "metadata": {},
   "outputs": [],
   "source": [
    "# v2 - dropdown drives graph\n",
    "\n",
    "\n",
    "from jupyter_dash import JupyterDash\n",
    "from dash import html\n",
    "from dash import dcc\n",
    "from dash.dependencies import Input, Output\n",
    "import plotly.express as px\n",
    "df = px.data.gapminder()\n",
    "\n",
    "app = JupyterDash(__name__)\n",
    "\n",
    "app.layout = html.Div(children = [\n",
    "  dcc.Dropdown(id=\"year\", value=2007, clearable=False,\n",
    "    options=[{\"label\": y, \"value\": y} for y in df['year'].unique()]),\n",
    "  dcc.Graph(id=\"graph\", figure={})\n",
    "])\n",
    "\n",
    "@app.callback(Output('graph', 'figure'), Input('year', 'value'))\n",
    "def cb(year):\n",
    "    df_year = df.query(\"year == @year\")\n",
    "    return px.scatter(df_year, x=\"gdpPercap\", y=\"lifeExp\", size=\"pop\",\n",
    "          log_x=True, size_max=60, hover_name=\"country\", height=400)\n",
    "\n",
    "app.run_server(mode=\"jupyterlab\")"
   ]
  },
  {
   "cell_type": "code",
   "execution_count": null,
   "metadata": {},
   "outputs": [],
   "source": [
    "# v3 - dropdown driving graph and map, graph drives map\n",
    "\n",
    "\n",
    "from jupyter_dash import JupyterDash\n",
    "from dash import html\n",
    "from dash import dcc\n",
    "from dash.dependencies import Input, Output\n",
    "import plotly.express as px\n",
    "df = px.data.gapminder()\n",
    "\n",
    "app = JupyterDash(__name__)\n",
    "\n",
    "app.layout = html.Div(children = [\n",
    "  dcc.Dropdown(id=\"year\", value=2007, clearable=False,\n",
    "    options=[{\"label\": y, \"value\": y} for y in df['year'].unique()]),\n",
    "  dcc.Graph(id=\"graph\", figure={}),\n",
    "  dcc.Graph(id=\"map\", figure={})\n",
    "])\n",
    "\n",
    "@app.callback(Output('graph', 'figure'), Input('year', 'value'))\n",
    "def cb(year):\n",
    "    df_year = df.query(\"year == @year\")\n",
    "    return px.scatter(df_year, x=\"gdpPercap\", y=\"lifeExp\", size=\"pop\",\n",
    "          log_x=True, size_max=60, hover_name=\"country\", height=400,\n",
    "          custom_data=[df_year.index]).update_layout(dragmode='lasso')\n",
    "\n",
    "@app.callback(Output('map', 'figure'),\n",
    "    Input('year', 'value'), Input('graph', 'selectedData'))\n",
    "def display_selected_data(year, selectedData):\n",
    "    df_year = df.query(\"year == @year\")\n",
    "    if selectedData:\n",
    "        indices = [p[\"customdata\"][0] for p in selectedData[\"points\"]]\n",
    "        try:\n",
    "            df_year = df_year.loc[indices]\n",
    "        except:\n",
    "            pass\n",
    "\n",
    "    return px.scatter_geo(df_year, locations=\"iso_alpha\",size=\"pop\", \n",
    "                          hover_name=\"country\", height=400)\n",
    "\n",
    "app.run_server(mode=\"jupyterlab\")"
   ]
  }
 ],
 "metadata": {
  "kernelspec": {
   "display_name": "cary_dev",
   "language": "python",
   "name": "python3"
  },
  "language_info": {
   "name": "python",
   "version": "3.10.9"
  },
  "orig_nbformat": 4,
  "vscode": {
   "interpreter": {
    "hash": "71fb11914f94fc2c90e6061170f2222c8b50268100b040249549820f4859e21e"
   }
  }
 },
 "nbformat": 4,
 "nbformat_minor": 2
}
