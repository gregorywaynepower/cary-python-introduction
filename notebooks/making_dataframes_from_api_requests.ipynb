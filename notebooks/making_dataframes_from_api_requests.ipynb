{
 "cells": [
  {
   "attachments": {},
   "cell_type": "markdown",
   "metadata": {},
   "source": [
    "# Making Pandas DataFrames from API Requests\n",
    "In this example, we will use the U.S. Geological Survey's API to grab a JSON object of earthquake data and convert it to a `pandas.DataFrame`.\n",
    "\n",
    "USGS API: https://earthquake.usgs.gov/fdsnws/event/1/"
   ]
  },
  {
   "attachments": {},
   "cell_type": "markdown",
   "metadata": {},
   "source": [
    "### Get Data from API"
   ]
  },
  {
   "cell_type": "code",
   "execution_count": 1,
   "metadata": {},
   "outputs": [
    {
     "data": {
      "text/plain": [
       "200"
      ]
     },
     "execution_count": 1,
     "metadata": {},
     "output_type": "execute_result"
    }
   ],
   "source": [
    "import datetime as dt\n",
    "import pandas as pd\n",
    "import requests\n",
    "\n",
    "yesterday = dt.date.today() - dt.timedelta(days=1)\n",
    "api = 'https://earthquake.usgs.gov/fdsnws/event/1/query'\n",
    "payload = {\n",
    "    'format': 'geojson',\n",
    "    'starttime': yesterday - dt.timedelta(days=30),\n",
    "    'endtime': yesterday\n",
    "}\n",
    "response = requests.get(api, params=payload)\n",
    "\n",
    "# let's make sure the request was OK\n",
    "response.status_code"
   ]
  },
  {
   "attachments": {},
   "cell_type": "markdown",
   "metadata": {},
   "source": [
    "Response of 200 means OK, so we can pull the data out of the result. Since we asked the API for a JSON payload, we can extract it from the response with the `json()` method.\n",
    "\n",
    "### Isolate the Data from the JSON Response\n",
    "We need to check the structures of the response data to know where our data is."
   ]
  },
  {
   "cell_type": "code",
   "execution_count": 2,
   "metadata": {},
   "outputs": [
    {
     "data": {
      "text/plain": [
       "dict_keys(['type', 'metadata', 'features', 'bbox'])"
      ]
     },
     "execution_count": 2,
     "metadata": {},
     "output_type": "execute_result"
    }
   ],
   "source": [
    "earthquake_json = response.json()\n",
    "earthquake_json.keys()"
   ]
  },
  {
   "attachments": {},
   "cell_type": "markdown",
   "metadata": {},
   "source": [
    "The USGS API provides information about our request in the `metadata` key. Note that your result will be different, regardless of the date range you chose, because the API includes a timestamp for when the data was pulled:"
   ]
  },
  {
   "cell_type": "code",
   "execution_count": 3,
   "metadata": {},
   "outputs": [
    {
     "data": {
      "text/plain": [
       "{'generated': 1686247399000,\n",
       " 'url': 'https://earthquake.usgs.gov/fdsnws/event/1/query?format=geojson&starttime=2023-05-08&endtime=2023-06-07',\n",
       " 'title': 'USGS Earthquakes',\n",
       " 'status': 200,\n",
       " 'api': '1.14.0',\n",
       " 'count': 11706}"
      ]
     },
     "execution_count": 3,
     "metadata": {},
     "output_type": "execute_result"
    }
   ],
   "source": [
    "earthquake_json['metadata']"
   ]
  },
  {
   "attachments": {},
   "cell_type": "markdown",
   "metadata": {},
   "source": [
    "Each element in the JSON array `features` is a row of data for our dataframe."
   ]
  },
  {
   "cell_type": "code",
   "execution_count": 4,
   "metadata": {},
   "outputs": [
    {
     "data": {
      "text/plain": [
       "list"
      ]
     },
     "execution_count": 4,
     "metadata": {},
     "output_type": "execute_result"
    }
   ],
   "source": [
    "type(earthquake_json['features'])"
   ]
  },
  {
   "attachments": {},
   "cell_type": "markdown",
   "metadata": {},
   "source": [
    "Your data will be different depending on the date you run this."
   ]
  },
  {
   "cell_type": "code",
   "execution_count": 5,
   "metadata": {},
   "outputs": [
    {
     "data": {
      "text/plain": [
       "{'type': 'Feature',\n",
       " 'properties': {'mag': 0.5,\n",
       "  'place': '17km SE of Anza, CA',\n",
       "  'time': 1686095356120,\n",
       "  'updated': 1686178472172,\n",
       "  'tz': None,\n",
       "  'url': 'https://earthquake.usgs.gov/earthquakes/eventpage/ci40479680',\n",
       "  'detail': 'https://earthquake.usgs.gov/fdsnws/event/1/query?eventid=ci40479680&format=geojson',\n",
       "  'felt': None,\n",
       "  'cdi': None,\n",
       "  'mmi': None,\n",
       "  'alert': None,\n",
       "  'status': 'reviewed',\n",
       "  'tsunami': 0,\n",
       "  'sig': 4,\n",
       "  'net': 'ci',\n",
       "  'code': '40479680',\n",
       "  'ids': ',ci40479680,',\n",
       "  'sources': ',ci,',\n",
       "  'types': ',nearby-cities,origin,phase-data,scitech-link,',\n",
       "  'nst': 21,\n",
       "  'dmin': 0.07016,\n",
       "  'rms': 0.26,\n",
       "  'gap': 86,\n",
       "  'magType': 'ml',\n",
       "  'type': 'earthquake',\n",
       "  'title': 'M 0.5 - 17km SE of Anza, CA'},\n",
       " 'geometry': {'type': 'Point', 'coordinates': [-116.5405, 33.447, 11.37]},\n",
       " 'id': 'ci40479680'}"
      ]
     },
     "execution_count": 5,
     "metadata": {},
     "output_type": "execute_result"
    }
   ],
   "source": [
    "earthquake_json['features'][0]"
   ]
  },
  {
   "attachments": {},
   "cell_type": "markdown",
   "metadata": {},
   "source": [
    "### Convert to DataFrame\n",
    "We need to grab the `properties` section out of every entry in the `features` JSON array to create our dataframe."
   ]
  },
  {
   "cell_type": "code",
   "execution_count": 6,
   "metadata": {},
   "outputs": [
    {
     "data": {
      "text/html": [
       "<div>\n",
       "<style scoped>\n",
       "    .dataframe tbody tr th:only-of-type {\n",
       "        vertical-align: middle;\n",
       "    }\n",
       "\n",
       "    .dataframe tbody tr th {\n",
       "        vertical-align: top;\n",
       "    }\n",
       "\n",
       "    .dataframe thead th {\n",
       "        text-align: right;\n",
       "    }\n",
       "</style>\n",
       "<table border=\"1\" class=\"dataframe\">\n",
       "  <thead>\n",
       "    <tr style=\"text-align: right;\">\n",
       "      <th></th>\n",
       "      <th>mag</th>\n",
       "      <th>place</th>\n",
       "      <th>time</th>\n",
       "      <th>updated</th>\n",
       "      <th>tz</th>\n",
       "      <th>url</th>\n",
       "      <th>detail</th>\n",
       "      <th>felt</th>\n",
       "      <th>cdi</th>\n",
       "      <th>mmi</th>\n",
       "      <th>...</th>\n",
       "      <th>ids</th>\n",
       "      <th>sources</th>\n",
       "      <th>types</th>\n",
       "      <th>nst</th>\n",
       "      <th>dmin</th>\n",
       "      <th>rms</th>\n",
       "      <th>gap</th>\n",
       "      <th>magType</th>\n",
       "      <th>type</th>\n",
       "      <th>title</th>\n",
       "    </tr>\n",
       "  </thead>\n",
       "  <tbody>\n",
       "    <tr>\n",
       "      <th>0</th>\n",
       "      <td>0.50</td>\n",
       "      <td>17km SE of Anza, CA</td>\n",
       "      <td>1686095356120</td>\n",
       "      <td>1686178472172</td>\n",
       "      <td>None</td>\n",
       "      <td>https://earthquake.usgs.gov/earthquakes/eventp...</td>\n",
       "      <td>https://earthquake.usgs.gov/fdsnws/event/1/que...</td>\n",
       "      <td>NaN</td>\n",
       "      <td>NaN</td>\n",
       "      <td>NaN</td>\n",
       "      <td>...</td>\n",
       "      <td>,ci40479680,</td>\n",
       "      <td>,ci,</td>\n",
       "      <td>,nearby-cities,origin,phase-data,scitech-link,</td>\n",
       "      <td>21.0</td>\n",
       "      <td>0.070160</td>\n",
       "      <td>0.26</td>\n",
       "      <td>86.0</td>\n",
       "      <td>ml</td>\n",
       "      <td>earthquake</td>\n",
       "      <td>M 0.5 - 17km SE of Anza, CA</td>\n",
       "    </tr>\n",
       "    <tr>\n",
       "      <th>1</th>\n",
       "      <td>1.24</td>\n",
       "      <td>6 km W of Blanchard, Oklahoma</td>\n",
       "      <td>1686095288900</td>\n",
       "      <td>1686140204481</td>\n",
       "      <td>None</td>\n",
       "      <td>https://earthquake.usgs.gov/earthquakes/eventp...</td>\n",
       "      <td>https://earthquake.usgs.gov/fdsnws/event/1/que...</td>\n",
       "      <td>0.0</td>\n",
       "      <td>1.0</td>\n",
       "      <td>NaN</td>\n",
       "      <td>...</td>\n",
       "      <td>,ok2023lavp,</td>\n",
       "      <td>,ok,</td>\n",
       "      <td>,dyfi,origin,phase-data,</td>\n",
       "      <td>64.0</td>\n",
       "      <td>0.089083</td>\n",
       "      <td>0.44</td>\n",
       "      <td>42.0</td>\n",
       "      <td>ml</td>\n",
       "      <td>earthquake</td>\n",
       "      <td>M 1.2 - 6 km W of Blanchard, Oklahoma</td>\n",
       "    </tr>\n",
       "    <tr>\n",
       "      <th>2</th>\n",
       "      <td>5.20</td>\n",
       "      <td>southeast of the Loyalty Islands</td>\n",
       "      <td>1686094693572</td>\n",
       "      <td>1686095577040</td>\n",
       "      <td>None</td>\n",
       "      <td>https://earthquake.usgs.gov/earthquakes/eventp...</td>\n",
       "      <td>https://earthquake.usgs.gov/fdsnws/event/1/que...</td>\n",
       "      <td>NaN</td>\n",
       "      <td>NaN</td>\n",
       "      <td>NaN</td>\n",
       "      <td>...</td>\n",
       "      <td>,us7000k6rg,</td>\n",
       "      <td>,us,</td>\n",
       "      <td>,origin,phase-data,</td>\n",
       "      <td>32.0</td>\n",
       "      <td>2.755000</td>\n",
       "      <td>0.82</td>\n",
       "      <td>85.0</td>\n",
       "      <td>mb</td>\n",
       "      <td>earthquake</td>\n",
       "      <td>M 5.2 - southeast of the Loyalty Islands</td>\n",
       "    </tr>\n",
       "    <tr>\n",
       "      <th>3</th>\n",
       "      <td>0.24</td>\n",
       "      <td>10 km NNE of Government Camp, Oregon</td>\n",
       "      <td>1686094611590</td>\n",
       "      <td>1686118209350</td>\n",
       "      <td>None</td>\n",
       "      <td>https://earthquake.usgs.gov/earthquakes/eventp...</td>\n",
       "      <td>https://earthquake.usgs.gov/fdsnws/event/1/que...</td>\n",
       "      <td>NaN</td>\n",
       "      <td>NaN</td>\n",
       "      <td>NaN</td>\n",
       "      <td>...</td>\n",
       "      <td>,uw61931036,</td>\n",
       "      <td>,uw,</td>\n",
       "      <td>,origin,phase-data,</td>\n",
       "      <td>3.0</td>\n",
       "      <td>0.032620</td>\n",
       "      <td>0.04</td>\n",
       "      <td>239.0</td>\n",
       "      <td>ml</td>\n",
       "      <td>earthquake</td>\n",
       "      <td>M 0.2 - 10 km NNE of Government Camp, Oregon</td>\n",
       "    </tr>\n",
       "    <tr>\n",
       "      <th>4</th>\n",
       "      <td>-0.01</td>\n",
       "      <td>8 km NNE of Government Camp, Oregon</td>\n",
       "      <td>1686094117310</td>\n",
       "      <td>1686117953180</td>\n",
       "      <td>None</td>\n",
       "      <td>https://earthquake.usgs.gov/earthquakes/eventp...</td>\n",
       "      <td>https://earthquake.usgs.gov/fdsnws/event/1/que...</td>\n",
       "      <td>NaN</td>\n",
       "      <td>NaN</td>\n",
       "      <td>NaN</td>\n",
       "      <td>...</td>\n",
       "      <td>,uw61931031,</td>\n",
       "      <td>,uw,</td>\n",
       "      <td>,origin,phase-data,</td>\n",
       "      <td>4.0</td>\n",
       "      <td>0.011510</td>\n",
       "      <td>0.04</td>\n",
       "      <td>173.0</td>\n",
       "      <td>ml</td>\n",
       "      <td>earthquake</td>\n",
       "      <td>M 0.0 - 8 km NNE of Government Camp, Oregon</td>\n",
       "    </tr>\n",
       "  </tbody>\n",
       "</table>\n",
       "<p>5 rows × 26 columns</p>\n",
       "</div>"
      ],
      "text/plain": [
       "    mag                                 place           time        updated  \\\n",
       "0  0.50                   17km SE of Anza, CA  1686095356120  1686178472172   \n",
       "1  1.24         6 km W of Blanchard, Oklahoma  1686095288900  1686140204481   \n",
       "2  5.20      southeast of the Loyalty Islands  1686094693572  1686095577040   \n",
       "3  0.24  10 km NNE of Government Camp, Oregon  1686094611590  1686118209350   \n",
       "4 -0.01   8 km NNE of Government Camp, Oregon  1686094117310  1686117953180   \n",
       "\n",
       "     tz                                                url  \\\n",
       "0  None  https://earthquake.usgs.gov/earthquakes/eventp...   \n",
       "1  None  https://earthquake.usgs.gov/earthquakes/eventp...   \n",
       "2  None  https://earthquake.usgs.gov/earthquakes/eventp...   \n",
       "3  None  https://earthquake.usgs.gov/earthquakes/eventp...   \n",
       "4  None  https://earthquake.usgs.gov/earthquakes/eventp...   \n",
       "\n",
       "                                              detail  felt  cdi  mmi  ...  \\\n",
       "0  https://earthquake.usgs.gov/fdsnws/event/1/que...   NaN  NaN  NaN  ...   \n",
       "1  https://earthquake.usgs.gov/fdsnws/event/1/que...   0.0  1.0  NaN  ...   \n",
       "2  https://earthquake.usgs.gov/fdsnws/event/1/que...   NaN  NaN  NaN  ...   \n",
       "3  https://earthquake.usgs.gov/fdsnws/event/1/que...   NaN  NaN  NaN  ...   \n",
       "4  https://earthquake.usgs.gov/fdsnws/event/1/que...   NaN  NaN  NaN  ...   \n",
       "\n",
       "            ids sources                                           types   nst  \\\n",
       "0  ,ci40479680,    ,ci,  ,nearby-cities,origin,phase-data,scitech-link,  21.0   \n",
       "1  ,ok2023lavp,    ,ok,                        ,dyfi,origin,phase-data,  64.0   \n",
       "2  ,us7000k6rg,    ,us,                             ,origin,phase-data,  32.0   \n",
       "3  ,uw61931036,    ,uw,                             ,origin,phase-data,   3.0   \n",
       "4  ,uw61931031,    ,uw,                             ,origin,phase-data,   4.0   \n",
       "\n",
       "       dmin   rms    gap magType        type  \\\n",
       "0  0.070160  0.26   86.0      ml  earthquake   \n",
       "1  0.089083  0.44   42.0      ml  earthquake   \n",
       "2  2.755000  0.82   85.0      mb  earthquake   \n",
       "3  0.032620  0.04  239.0      ml  earthquake   \n",
       "4  0.011510  0.04  173.0      ml  earthquake   \n",
       "\n",
       "                                          title  \n",
       "0                   M 0.5 - 17km SE of Anza, CA  \n",
       "1         M 1.2 - 6 km W of Blanchard, Oklahoma  \n",
       "2      M 5.2 - southeast of the Loyalty Islands  \n",
       "3  M 0.2 - 10 km NNE of Government Camp, Oregon  \n",
       "4   M 0.0 - 8 km NNE of Government Camp, Oregon  \n",
       "\n",
       "[5 rows x 26 columns]"
      ]
     },
     "execution_count": 6,
     "metadata": {},
     "output_type": "execute_result"
    }
   ],
   "source": [
    "earthquake_properties_data = [\n",
    "    quake['properties'] for quake in earthquake_json['features']\n",
    "]\n",
    "df = pd.DataFrame(earthquake_properties_data)\n",
    "df.head()"
   ]
  },
  {
   "attachments": {},
   "cell_type": "markdown",
   "metadata": {},
   "source": [
    "### (Optional) Write Data to CSV"
   ]
  },
  {
   "cell_type": "code",
   "execution_count": 7,
   "metadata": {},
   "outputs": [],
   "source": [
    "df.to_csv('earthquakes.csv', index=False)"
   ]
  }
 ],
 "metadata": {
  "kernelspec": {
   "display_name": "Python 3",
   "language": "python",
   "name": "python3"
  },
  "language_info": {
   "codemirror_mode": {
    "name": "ipython",
    "version": 3
   },
   "file_extension": ".py",
   "mimetype": "text/x-python",
   "name": "python",
   "nbconvert_exporter": "python",
   "pygments_lexer": "ipython3",
   "version": "3.10.9"
  }
 },
 "nbformat": 4,
 "nbformat_minor": 4
}
