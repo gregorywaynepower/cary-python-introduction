{
 "cells": [
  {
   "cell_type": "markdown",
   "metadata": {},
   "source": [
    "# Hypothesis Testing"
   ]
  },
  {
   "cell_type": "markdown",
   "metadata": {},
   "source": [
    "A hypothesis is a claim or statement about a parameter<sup>1</sup>. There are two types of statistical hypotheses: \n",
    "- Null Hypothesis\n",
    "- Alternative Hypothesis\n",
    "\n",
    "A null hypothesis is a statement that claims that the parameter is equal to some claimed value.\n",
    "- H<sub>0</sub> is the symbol used to denote this. It can be pronounced as \"H null\", \"H zero\" or \"H nought\"\n",
    "- It always contains one of these operators: $\\ge$, $\\le$, =.\n",
    "- This value is the one to always assume is true.\n",
    "\n",
    "An alternative hypothesis is a statement that claims that the parameter is a different value than the null.\n",
    "- H<sub>A</sub> or H<sub>1</sub> is the symbol used to denote this. It's always called \"alternative hypothesis.\"\n",
    "- It always contains one of these operators: $\\gt$, $\\lt$, $\\neq$.\n",
    "\n"
   ]
  },
  {
   "cell_type": "markdown",
   "metadata": {},
   "source": [
    "### Steps to Solving a Hypothesis Test Problem\n",
    "1. Write and label everything.\n",
    "2. Write hypotheses:\n",
    "    - H<sub>0</sub>: (operator with equal sign)\n",
    "    - H<sub>A</sub>: (operator without equal sign)\n",
    "3. Draw graph (bell-curved)\n",
    "    - The graph will either be right, left or two tailed.\n",
    "4. Carry out the necessary calculations to arrive to a solution.\n",
    "    - This can involve solving a t-statisic or z-test.\n",
    "5. Write a sentence summarizing the findings.\n",
    "    - Usually follows this format: \"There is/is not sufficient evidence to support/reject the claim that...\""
   ]
  },
  {
   "cell_type": "markdown",
   "metadata": {},
   "source": [
    "### Rejection Explained\n",
    "\n",
    "Every hypothesis test is rejected or failed to reject. This is because we either have enough data to be able to say the hypothesis is correct, or we don't have enough data to prove otherwise. To determine this, we compare the _significance level_ to the _p-value_ .\n",
    "\n",
    "The significance level is denoted by $\\alpha$ which measures how strong the evidence must be in order to determine the evidence to be statistically significant.\n",
    "\n",
    "P-value is defined by [Investopedia](https://www.investopedia.com/terms/p/p-value.asp) as \"a statistical measurement used to validate a hypothesis against observed data.\" We're not going to go in-depth here regarding how the p-value is calculated, but just enough to scratch the surface. This value describes the likelihood of the data occurring randomly. P-values range from 0 to 1 and a smaller p-value denotes a smaller probability that the results occurred randomly.\n",
    "\n",
    "- If p-value $\\leq$ $\\alpha$, then reject H<sub>0</sub>.\n",
    "- If p-value $\\gt$ $\\alpha$, then fail to reject H<sub>0</sub>.\n"
   ]
  },
  {
   "cell_type": "markdown",
   "metadata": {},
   "source": [
    "### Determining the Tail of the Curve\n",
    "The trick to remembering where the tail of the curve is by looking at the alternative hypothesis.\n",
    "- If the sign in H<sub>A</sub> is \n",
    "    - $\\neq$: two-tailed\n",
    "    - $\\lt$: left-taied\n",
    "    - $\\gt$: right-tailed"
   ]
  },
  {
   "cell_type": "markdown",
   "metadata": {},
   "source": [
    "### Errors\n",
    "\n",
    "Sometimes, error occurs with hypothesis testing and there are two types of it:\n",
    "- Type I error\n",
    "    - This is known as the false-positive.\n",
    "    - It occurs when the null hypothesis is rejected, but it is true.\n",
    "- Type II error\n",
    "    - This is known as the false-negative.\n",
    "    - It occurs when the null hypothesis is not rejected, but it is false.\n",
    "\n",
    "This table below from [Scribbr](https://www.scribbr.com/statistics/type-i-and-type-ii-errors/) can be used to determine error type, if any."
   ]
  },
  {
   "cell_type": "markdown",
   "metadata": {},
   "source": [
    "![](https://www.scribbr.com/wp-content/uploads/2021/01/type-i-and-ii-error-2.png)\n",
    "\n",
    "![](https://chemicalstatistician.files.wordpress.com/2014/05/pregnant.jpg?w=500)"
   ]
  },
  {
   "cell_type": "markdown",
   "metadata": {},
   "source": [
    "<sup>1</sup>A parameter is a measure done on an entire population of data."
   ]
  }
 ],
 "metadata": {
  "kernelspec": {
   "display_name": "Python 3.11.3 64-bit",
   "language": "python",
   "name": "python3"
  },
  "language_info": {
   "name": "python",
   "version": "3.11.3"
  },
  "orig_nbformat": 4,
  "vscode": {
   "interpreter": {
    "hash": "c261aea317cc0286b3b3261fbba9abdec21eaa57589985bb7a274bf54d6cc0a7"
   }
  }
 },
 "nbformat": 4,
 "nbformat_minor": 2
}
