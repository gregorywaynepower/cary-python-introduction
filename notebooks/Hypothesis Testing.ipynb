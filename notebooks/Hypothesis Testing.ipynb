{
 "cells": [
  {
   "cell_type": "markdown",
   "metadata": {},
   "source": [
    "# Hypothesis Testing"
   ]
  },
  {
   "cell_type": "markdown",
   "metadata": {},
   "source": [
    "A hypothesis is a claim or statement about a parameter<sup>1</sup>. There are two types of statistical hypotheses: \n",
    "- Null Hypothesis\n",
    "- Alternative Hypothesis\n",
    "\n",
    "A null hypothesis is a statement that claims that the parameter is equal to some claimed value.\n",
    "- H<sub>0</sub> is the symbol used to denote this. It can be pronounced as \"H null\", \"H zero\" or \"H nought\"\n",
    "- It always contains one of these operators: $\\ge$, $\\le$, =\n",
    "- This value is the one to always assume is true.\n",
    "\n",
    "An alternative hypothesis is a statement that claims that the parameter is a different value than the null.\n",
    "- H<sub>A</sub> or H<sub>1</sub> is the symbol used to denote this. It's always called \"alternative hypothesis.\"\n",
    "- It always contains one of these operators: <,>, $\\neq$\n",
    "\n"
   ]
  },
  {
   "cell_type": "markdown",
   "metadata": {},
   "source": [
    "### Steps to Solving a Hypothesis Test Problem\n",
    "1. Write and label everything.\n",
    "2. Write hypotheses:\n",
    "    - H<sub>0</sub>: (operator with equal sign)\n",
    "    - H<sub>A</sub>: (operator without equal sign)\n",
    "3. Draw graph (bell-curved)\n",
    "    - The graph will either be right, left or two tailed.\n",
    "4. Carry out the necessary calculations to arrive to a solution.\n",
    "    - This can involve solving a t-statisic or z-test.\n",
    "5. Write a sentence summarizing the findings.\n",
    "    - Usually follow this format: \"There is/is not sufficient evidence to support/reject the claim that...\""
   ]
  },
  {
   "cell_type": "markdown",
   "metadata": {},
   "source": [
    "### Every hypothesis test is\n",
    "- rejected\n",
    "- failed to reject"
   ]
  },
  {
   "cell_type": "markdown",
   "metadata": {},
   "source": [
    "#### Errors\n",
    "- Type I error\n",
    "    - This is known as the false-positive.\n",
    "    - It occurs when the null hypothesis is rejected, but it is true.\n",
    "- Type II error\n",
    "    - This is known as the false-negative.\n",
    "    - It occurs when the null hypothesis is not rejected, but it is false.\n"
   ]
  },
  {
   "cell_type": "markdown",
   "metadata": {},
   "source": [
    "#### Level of Significance ($\\alpha$)\n",
    "- "
   ]
  },
  {
   "cell_type": "markdown",
   "metadata": {},
   "source": [
    "<sup>1</sup>A parameter is a measure done on an entire population of data."
   ]
  }
 ],
 "metadata": {
  "kernelspec": {
   "display_name": "Python 3.11.3 64-bit",
   "language": "python",
   "name": "python3"
  },
  "language_info": {
   "name": "python",
   "version": "3.11.3"
  },
  "orig_nbformat": 4,
  "vscode": {
   "interpreter": {
    "hash": "c261aea317cc0286b3b3261fbba9abdec21eaa57589985bb7a274bf54d6cc0a7"
   }
  }
 },
 "nbformat": 4,
 "nbformat_minor": 2
}
