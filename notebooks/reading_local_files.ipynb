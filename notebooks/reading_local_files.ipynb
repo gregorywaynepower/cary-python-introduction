{
 "cells": [
  {
   "attachments": {},
   "cell_type": "markdown",
   "metadata": {},
   "source": [
    "# An Introduction to Jupyter Notebooks\n",
    "\n",
    "Jupyter Notebooks are a file format (```*.ipynb```) that you can execute and explain your code in a step-wise format.\n",
    "> Jupyter Notebooks supports not only code execution in Python, but over 40 languages including R, Lua, Rust, and Julia with numerous [kernels](https://docs.jupyter.org/en/latest/projects/kernels.html#kernels-programming-languages).\n",
    "\n",
    "We can write in Markdown to write text with some level of control over your formatting.\n",
    "- [Here's a Link to Basic Markdown](https://www.markdownguide.org/basic-syntax/)\n",
    "- [Here's a link to Markdown's Extended Syntax](https://www.markdownguide.org/extended-syntax/)\n",
    "\n",
    "Topics We Will Cover\n",
    "- Importing different files and filetypes with [```pandas```](https://pandas.pydata.org/docs/index.html)\n",
    "- Basic Statistical Analysis of tabular data with ```pandas``` and ```numpy```\n",
    "- Creating Charts with python packages from the [Matplotlib](https://matplotlib.org/), [Plotly](https://plotly.com/python/), or [HoloViz Ecosystem](https://holoviz.org/background.html#background-why-holoviz)\n",
    "- Evaluate the potential usecases for each visualization package\n",
    "\n",
    "![EvidenceOfLearning](../images/learning.gif)\n",
    "<br>\n",
    "*This is you, enjoying the learning process.*"
   ]
  },
  {
   "attachments": {},
   "cell_type": "markdown",
   "metadata": {},
   "source": [
    "Step 1: Import ```pandas``` into your python program."
   ]
  },
  {
   "cell_type": "code",
   "execution_count": 1,
   "metadata": {},
   "outputs": [],
   "source": [
    "import pandas as pd\n",
    "\n",
    "# This will import the pandas and numpy packages into your Python program.\n",
    "\n",
    "df_json = pd.read_json('../data/food-waste-pilot/food-waste-pilot.json')\n",
    "df_csv = pd.read_csv('../data/food-waste-pilot/food-waste-pilot.csv')\n",
    "df_xlsx = pd.read_excel('../data/food-waste-pilot/food-waste-pilot.xlsx')"
   ]
  },
  {
   "cell_type": "code",
   "execution_count": 2,
   "metadata": {},
   "outputs": [
    {
     "data": {
      "text/plain": [
       "(152, 3)"
      ]
     },
     "execution_count": 2,
     "metadata": {},
     "output_type": "execute_result"
    }
   ],
   "source": [
    "df_csv.shape"
   ]
  },
  {
   "cell_type": "code",
   "execution_count": 3,
   "metadata": {},
   "outputs": [
    {
     "data": {
      "text/html": [
       "<div>\n",
       "<style scoped>\n",
       "    .dataframe tbody tr th:only-of-type {\n",
       "        vertical-align: middle;\n",
       "    }\n",
       "\n",
       "    .dataframe tbody tr th {\n",
       "        vertical-align: top;\n",
       "    }\n",
       "\n",
       "    .dataframe thead th {\n",
       "        text-align: right;\n",
       "    }\n",
       "</style>\n",
       "<table border=\"1\" class=\"dataframe\">\n",
       "  <thead>\n",
       "    <tr style=\"text-align: right;\">\n",
       "      <th></th>\n",
       "      <th>Collection Date</th>\n",
       "      <th>Food Waste Collected</th>\n",
       "      <th>Estimated Earned Compost Created</th>\n",
       "    </tr>\n",
       "  </thead>\n",
       "  <tbody>\n",
       "    <tr>\n",
       "      <th>0</th>\n",
       "      <td>2022-02-25</td>\n",
       "      <td>250.8</td>\n",
       "      <td>25</td>\n",
       "    </tr>\n",
       "    <tr>\n",
       "      <th>1</th>\n",
       "      <td>2022-03-02</td>\n",
       "      <td>298.8</td>\n",
       "      <td>30</td>\n",
       "    </tr>\n",
       "    <tr>\n",
       "      <th>2</th>\n",
       "      <td>2022-03-21</td>\n",
       "      <td>601.2</td>\n",
       "      <td>60</td>\n",
       "    </tr>\n",
       "    <tr>\n",
       "      <th>3</th>\n",
       "      <td>2022-03-28</td>\n",
       "      <td>857.2</td>\n",
       "      <td>86</td>\n",
       "    </tr>\n",
       "    <tr>\n",
       "      <th>4</th>\n",
       "      <td>2022-03-30</td>\n",
       "      <td>610.8</td>\n",
       "      <td>61</td>\n",
       "    </tr>\n",
       "  </tbody>\n",
       "</table>\n",
       "</div>"
      ],
      "text/plain": [
       "  Collection Date  Food Waste Collected  Estimated Earned Compost Created\n",
       "0      2022-02-25                 250.8                                25\n",
       "1      2022-03-02                 298.8                                30\n",
       "2      2022-03-21                 601.2                                60\n",
       "3      2022-03-28                 857.2                                86\n",
       "4      2022-03-30                 610.8                                61"
      ]
     },
     "execution_count": 3,
     "metadata": {},
     "output_type": "execute_result"
    }
   ],
   "source": [
    "df_csv.head() # Grabs the top 5 items in your Dataframe by default."
   ]
  },
  {
   "cell_type": "code",
   "execution_count": 4,
   "metadata": {},
   "outputs": [
    {
     "data": {
      "text/html": [
       "<div>\n",
       "<style scoped>\n",
       "    .dataframe tbody tr th:only-of-type {\n",
       "        vertical-align: middle;\n",
       "    }\n",
       "\n",
       "    .dataframe tbody tr th {\n",
       "        vertical-align: top;\n",
       "    }\n",
       "\n",
       "    .dataframe thead th {\n",
       "        text-align: right;\n",
       "    }\n",
       "</style>\n",
       "<table border=\"1\" class=\"dataframe\">\n",
       "  <thead>\n",
       "    <tr style=\"text-align: right;\">\n",
       "      <th></th>\n",
       "      <th>Collection Date</th>\n",
       "      <th>Food Waste Collected</th>\n",
       "      <th>Estimated Earned Compost Created</th>\n",
       "    </tr>\n",
       "  </thead>\n",
       "  <tbody>\n",
       "    <tr>\n",
       "      <th>147</th>\n",
       "      <td>2022-10-12</td>\n",
       "      <td>385.8</td>\n",
       "      <td>39</td>\n",
       "    </tr>\n",
       "    <tr>\n",
       "      <th>148</th>\n",
       "      <td>2022-10-28</td>\n",
       "      <td>713.6</td>\n",
       "      <td>71</td>\n",
       "    </tr>\n",
       "    <tr>\n",
       "      <th>149</th>\n",
       "      <td>2022-10-31</td>\n",
       "      <td>953.4</td>\n",
       "      <td>95</td>\n",
       "    </tr>\n",
       "    <tr>\n",
       "      <th>150</th>\n",
       "      <td>2022-12-14</td>\n",
       "      <td>694.4</td>\n",
       "      <td>69</td>\n",
       "    </tr>\n",
       "    <tr>\n",
       "      <th>151</th>\n",
       "      <td>2023-01-06</td>\n",
       "      <td>968.6</td>\n",
       "      <td>97</td>\n",
       "    </tr>\n",
       "  </tbody>\n",
       "</table>\n",
       "</div>"
      ],
      "text/plain": [
       "    Collection Date  Food Waste Collected  Estimated Earned Compost Created\n",
       "147      2022-10-12                 385.8                                39\n",
       "148      2022-10-28                 713.6                                71\n",
       "149      2022-10-31                 953.4                                95\n",
       "150      2022-12-14                 694.4                                69\n",
       "151      2023-01-06                 968.6                                97"
      ]
     },
     "execution_count": 4,
     "metadata": {},
     "output_type": "execute_result"
    }
   ],
   "source": [
    "df_csv.tail() # Grabs the bottom 5 items in your Dataframe by default."
   ]
  },
  {
   "cell_type": "code",
   "execution_count": 5,
   "metadata": {},
   "outputs": [
    {
     "data": {
      "text/plain": [
       "Index(['Collection Date', 'Food Waste Collected',\n",
       "       'Estimated Earned Compost Created'],\n",
       "      dtype='object')"
      ]
     },
     "execution_count": 5,
     "metadata": {},
     "output_type": "execute_result"
    }
   ],
   "source": [
    "df_csv.columns"
   ]
  },
  {
   "cell_type": "code",
   "execution_count": 6,
   "metadata": {},
   "outputs": [
    {
     "data": {
      "text/plain": [
       "Collection Date                      object\n",
       "Food Waste Collected                float64\n",
       "Estimated Earned Compost Created      int64\n",
       "dtype: object"
      ]
     },
     "execution_count": 6,
     "metadata": {},
     "output_type": "execute_result"
    }
   ],
   "source": [
    "df_csv.dtypes # Returns the data types of your columns."
   ]
  },
  {
   "cell_type": "code",
   "execution_count": 7,
   "metadata": {},
   "outputs": [
    {
     "data": {
      "text/html": [
       "<div>\n",
       "<style scoped>\n",
       "    .dataframe tbody tr th:only-of-type {\n",
       "        vertical-align: middle;\n",
       "    }\n",
       "\n",
       "    .dataframe tbody tr th {\n",
       "        vertical-align: top;\n",
       "    }\n",
       "\n",
       "    .dataframe thead th {\n",
       "        text-align: right;\n",
       "    }\n",
       "</style>\n",
       "<table border=\"1\" class=\"dataframe\">\n",
       "  <thead>\n",
       "    <tr style=\"text-align: right;\">\n",
       "      <th></th>\n",
       "      <th>Food Waste Collected</th>\n",
       "      <th>Estimated Earned Compost Created</th>\n",
       "    </tr>\n",
       "  </thead>\n",
       "  <tbody>\n",
       "    <tr>\n",
       "      <th>count</th>\n",
       "      <td>152.000000</td>\n",
       "      <td>152.000000</td>\n",
       "    </tr>\n",
       "    <tr>\n",
       "      <th>mean</th>\n",
       "      <td>526.873684</td>\n",
       "      <td>52.611842</td>\n",
       "    </tr>\n",
       "    <tr>\n",
       "      <th>std</th>\n",
       "      <td>197.838075</td>\n",
       "      <td>19.787631</td>\n",
       "    </tr>\n",
       "    <tr>\n",
       "      <th>min</th>\n",
       "      <td>0.000000</td>\n",
       "      <td>0.000000</td>\n",
       "    </tr>\n",
       "    <tr>\n",
       "      <th>25%</th>\n",
       "      <td>398.050000</td>\n",
       "      <td>39.750000</td>\n",
       "    </tr>\n",
       "    <tr>\n",
       "      <th>50%</th>\n",
       "      <td>531.500000</td>\n",
       "      <td>53.000000</td>\n",
       "    </tr>\n",
       "    <tr>\n",
       "      <th>75%</th>\n",
       "      <td>658.900000</td>\n",
       "      <td>66.000000</td>\n",
       "    </tr>\n",
       "    <tr>\n",
       "      <th>max</th>\n",
       "      <td>1065.800000</td>\n",
       "      <td>107.000000</td>\n",
       "    </tr>\n",
       "  </tbody>\n",
       "</table>\n",
       "</div>"
      ],
      "text/plain": [
       "       Food Waste Collected  Estimated Earned Compost Created\n",
       "count            152.000000                        152.000000\n",
       "mean             526.873684                         52.611842\n",
       "std              197.838075                         19.787631\n",
       "min                0.000000                          0.000000\n",
       "25%              398.050000                         39.750000\n",
       "50%              531.500000                         53.000000\n",
       "75%              658.900000                         66.000000\n",
       "max             1065.800000                        107.000000"
      ]
     },
     "execution_count": 7,
     "metadata": {},
     "output_type": "execute_result"
    }
   ],
   "source": [
    "df_csv.describe()"
   ]
  },
  {
   "cell_type": "code",
   "execution_count": 8,
   "metadata": {},
   "outputs": [
    {
     "name": "stdout",
     "output_type": "stream",
     "text": [
      "<class 'pandas.core.frame.DataFrame'>\n",
      "RangeIndex: 152 entries, 0 to 151\n",
      "Data columns (total 3 columns):\n",
      " #   Column                            Non-Null Count  Dtype  \n",
      "---  ------                            --------------  -----  \n",
      " 0   Collection Date                   152 non-null    object \n",
      " 1   Food Waste Collected              152 non-null    float64\n",
      " 2   Estimated Earned Compost Created  152 non-null    int64  \n",
      "dtypes: float64(1), int64(1), object(1)\n",
      "memory usage: 3.7+ KB\n"
     ]
    }
   ],
   "source": [
    "df_csv.info() # Returns index, column names, a count of Non-Null values, and data types."
   ]
  },
  {
   "attachments": {},
   "cell_type": "markdown",
   "metadata": {},
   "source": [
    "There are multiple methods to do type conversion using pandas as well."
   ]
  },
  {
   "cell_type": "code",
   "execution_count": 9,
   "metadata": {},
   "outputs": [],
   "source": [
    "# Oh no, we can see that our Collection Date is not the data type that we want, we need to convert it to a date value.\n",
    "\n",
    "df_csv['Collection Date'] = pd.to_datetime(df_csv['Collection Date'])"
   ]
  },
  {
   "cell_type": "code",
   "execution_count": 10,
   "metadata": {},
   "outputs": [
    {
     "name": "stdout",
     "output_type": "stream",
     "text": [
      "<class 'pandas.core.frame.DataFrame'>\n",
      "RangeIndex: 152 entries, 0 to 151\n",
      "Data columns (total 3 columns):\n",
      " #   Column                            Non-Null Count  Dtype         \n",
      "---  ------                            --------------  -----         \n",
      " 0   Collection Date                   152 non-null    datetime64[ns]\n",
      " 1   Food Waste Collected              152 non-null    float64       \n",
      " 2   Estimated Earned Compost Created  152 non-null    int64         \n",
      "dtypes: datetime64[ns](1), float64(1), int64(1)\n",
      "memory usage: 3.7 KB\n"
     ]
    }
   ],
   "source": [
    "df_csv.info()"
   ]
  },
  {
   "cell_type": "code",
   "execution_count": 11,
   "metadata": {},
   "outputs": [],
   "source": [
    "# An alternative way to do this date conversion:\n",
    "\n",
    "df_csv['Collection Date'] = df_csv['Collection Date'].apply(pd.to_datetime)"
   ]
  },
  {
   "cell_type": "code",
   "execution_count": 12,
   "metadata": {},
   "outputs": [],
   "source": [
    "# astype() is more generic method to convert data types\n",
    "\n",
    "df_csv['Collection Date'] = df_csv['Collection Date'].astype('datetime64[ns]')"
   ]
  },
  {
   "cell_type": "code",
   "execution_count": 13,
   "metadata": {},
   "outputs": [
    {
     "data": {
      "text/plain": [
       "Collection Date                     datetime64[ns]\n",
       "Food Waste Collected                       float64\n",
       "Estimated Earned Compost Created             int64\n",
       "dtype: object"
      ]
     },
     "execution_count": 13,
     "metadata": {},
     "output_type": "execute_result"
    }
   ],
   "source": [
    "df_csv.dtypes"
   ]
  },
  {
   "cell_type": "code",
   "execution_count": 14,
   "metadata": {},
   "outputs": [],
   "source": [
    "# Now that we have converted our Collection Date column to a datetime data type, we can use the dt.day_name() method to create a new column that contains the day of the week.\n",
    "\n",
    "df_csv['Day of Week'] = df_csv['Collection Date'].dt.day_name()"
   ]
  },
  {
   "cell_type": "code",
   "execution_count": 15,
   "metadata": {},
   "outputs": [
    {
     "data": {
      "text/plain": [
       "Collection Date    2022-08-10 00:00:00\n",
       "Name: 20, dtype: object"
      ]
     },
     "execution_count": 15,
     "metadata": {},
     "output_type": "execute_result"
    }
   ],
   "source": [
    "# What if we want to know the date that we collected the most food waste?\n",
    "\n",
    "df_csv.loc[\n",
    "    df_csv['Food Waste Collected'].idxmax(),\n",
    "    ['Collection Date']\n",
    "]"
   ]
  },
  {
   "cell_type": "code",
   "execution_count": 16,
   "metadata": {},
   "outputs": [
    {
     "data": {
      "text/html": [
       "<div>\n",
       "<style scoped>\n",
       "    .dataframe tbody tr th:only-of-type {\n",
       "        vertical-align: middle;\n",
       "    }\n",
       "\n",
       "    .dataframe tbody tr th {\n",
       "        vertical-align: top;\n",
       "    }\n",
       "\n",
       "    .dataframe thead th {\n",
       "        text-align: right;\n",
       "    }\n",
       "</style>\n",
       "<table border=\"1\" class=\"dataframe\">\n",
       "  <thead>\n",
       "    <tr style=\"text-align: right;\">\n",
       "      <th></th>\n",
       "      <th>Collection Date</th>\n",
       "      <th>Food Waste Collected</th>\n",
       "      <th>Estimated Earned Compost Created</th>\n",
       "      <th>Day of Week</th>\n",
       "    </tr>\n",
       "  </thead>\n",
       "  <tbody>\n",
       "    <tr>\n",
       "      <th>20</th>\n",
       "      <td>2022-08-10</td>\n",
       "      <td>1065.8</td>\n",
       "      <td>107</td>\n",
       "      <td>Wednesday</td>\n",
       "    </tr>\n",
       "    <tr>\n",
       "      <th>124</th>\n",
       "      <td>2022-12-27</td>\n",
       "      <td>987.4</td>\n",
       "      <td>99</td>\n",
       "      <td>Tuesday</td>\n",
       "    </tr>\n",
       "    <tr>\n",
       "      <th>48</th>\n",
       "      <td>2022-09-12</td>\n",
       "      <td>977.8</td>\n",
       "      <td>98</td>\n",
       "      <td>Monday</td>\n",
       "    </tr>\n",
       "    <tr>\n",
       "      <th>151</th>\n",
       "      <td>2023-01-06</td>\n",
       "      <td>968.6</td>\n",
       "      <td>97</td>\n",
       "      <td>Friday</td>\n",
       "    </tr>\n",
       "    <tr>\n",
       "      <th>149</th>\n",
       "      <td>2022-10-31</td>\n",
       "      <td>953.4</td>\n",
       "      <td>95</td>\n",
       "      <td>Monday</td>\n",
       "    </tr>\n",
       "    <tr>\n",
       "      <th>3</th>\n",
       "      <td>2022-03-28</td>\n",
       "      <td>857.2</td>\n",
       "      <td>86</td>\n",
       "      <td>Monday</td>\n",
       "    </tr>\n",
       "    <tr>\n",
       "      <th>123</th>\n",
       "      <td>2022-11-28</td>\n",
       "      <td>844.4</td>\n",
       "      <td>84</td>\n",
       "      <td>Monday</td>\n",
       "    </tr>\n",
       "    <tr>\n",
       "      <th>57</th>\n",
       "      <td>2022-12-05</td>\n",
       "      <td>834.4</td>\n",
       "      <td>83</td>\n",
       "      <td>Monday</td>\n",
       "    </tr>\n",
       "    <tr>\n",
       "      <th>91</th>\n",
       "      <td>2022-12-30</td>\n",
       "      <td>815.4</td>\n",
       "      <td>82</td>\n",
       "      <td>Friday</td>\n",
       "    </tr>\n",
       "    <tr>\n",
       "      <th>137</th>\n",
       "      <td>2022-07-18</td>\n",
       "      <td>807.8</td>\n",
       "      <td>81</td>\n",
       "      <td>Monday</td>\n",
       "    </tr>\n",
       "  </tbody>\n",
       "</table>\n",
       "</div>"
      ],
      "text/plain": [
       "    Collection Date  Food Waste Collected  Estimated Earned Compost Created  \\\n",
       "20       2022-08-10                1065.8                               107   \n",
       "124      2022-12-27                 987.4                                99   \n",
       "48       2022-09-12                 977.8                                98   \n",
       "151      2023-01-06                 968.6                                97   \n",
       "149      2022-10-31                 953.4                                95   \n",
       "3        2022-03-28                 857.2                                86   \n",
       "123      2022-11-28                 844.4                                84   \n",
       "57       2022-12-05                 834.4                                83   \n",
       "91       2022-12-30                 815.4                                82   \n",
       "137      2022-07-18                 807.8                                81   \n",
       "\n",
       "    Day of Week  \n",
       "20    Wednesday  \n",
       "124     Tuesday  \n",
       "48       Monday  \n",
       "151      Friday  \n",
       "149      Monday  \n",
       "3        Monday  \n",
       "123      Monday  \n",
       "57       Monday  \n",
       "91       Friday  \n",
       "137      Monday  "
      ]
     },
     "execution_count": 16,
     "metadata": {},
     "output_type": "execute_result"
    }
   ],
   "source": [
    "# If you wanted to see our top 10 collection dates, you could do this:\n",
    "\n",
    "df_csv.nlargest(10,'Food Waste Collected')"
   ]
  },
  {
   "cell_type": "code",
   "execution_count": 17,
   "metadata": {},
   "outputs": [
    {
     "data": {
      "text/html": [
       "<div>\n",
       "<style scoped>\n",
       "    .dataframe tbody tr th:only-of-type {\n",
       "        vertical-align: middle;\n",
       "    }\n",
       "\n",
       "    .dataframe tbody tr th {\n",
       "        vertical-align: top;\n",
       "    }\n",
       "\n",
       "    .dataframe thead th {\n",
       "        text-align: right;\n",
       "    }\n",
       "</style>\n",
       "<table border=\"1\" class=\"dataframe\">\n",
       "  <thead>\n",
       "    <tr style=\"text-align: right;\">\n",
       "      <th></th>\n",
       "      <th>Collection Date</th>\n",
       "      <th>Food Waste Collected</th>\n",
       "      <th>Estimated Earned Compost Created</th>\n",
       "      <th>Day of Week</th>\n",
       "    </tr>\n",
       "  </thead>\n",
       "  <tbody>\n",
       "    <tr>\n",
       "      <th>53</th>\n",
       "      <td>2022-11-11</td>\n",
       "      <td>0.0</td>\n",
       "      <td>0</td>\n",
       "      <td>Friday</td>\n",
       "    </tr>\n",
       "    <tr>\n",
       "      <th>95</th>\n",
       "      <td>2023-01-16</td>\n",
       "      <td>0.0</td>\n",
       "      <td>0</td>\n",
       "      <td>Monday</td>\n",
       "    </tr>\n",
       "    <tr>\n",
       "      <th>114</th>\n",
       "      <td>2022-09-05</td>\n",
       "      <td>0.0</td>\n",
       "      <td>0</td>\n",
       "      <td>Monday</td>\n",
       "    </tr>\n",
       "    <tr>\n",
       "      <th>97</th>\n",
       "      <td>2022-02-09</td>\n",
       "      <td>59.0</td>\n",
       "      <td>6</td>\n",
       "      <td>Wednesday</td>\n",
       "    </tr>\n",
       "    <tr>\n",
       "      <th>36</th>\n",
       "      <td>2022-02-16</td>\n",
       "      <td>102.8</td>\n",
       "      <td>10</td>\n",
       "      <td>Wednesday</td>\n",
       "    </tr>\n",
       "    <tr>\n",
       "      <th>63</th>\n",
       "      <td>2022-02-21</td>\n",
       "      <td>183.8</td>\n",
       "      <td>18</td>\n",
       "      <td>Monday</td>\n",
       "    </tr>\n",
       "    <tr>\n",
       "      <th>61</th>\n",
       "      <td>2022-02-11</td>\n",
       "      <td>197.0</td>\n",
       "      <td>20</td>\n",
       "      <td>Friday</td>\n",
       "    </tr>\n",
       "    <tr>\n",
       "      <th>39</th>\n",
       "      <td>2022-04-15</td>\n",
       "      <td>200.8</td>\n",
       "      <td>20</td>\n",
       "      <td>Friday</td>\n",
       "    </tr>\n",
       "    <tr>\n",
       "      <th>62</th>\n",
       "      <td>2022-02-18</td>\n",
       "      <td>202.8</td>\n",
       "      <td>20</td>\n",
       "      <td>Friday</td>\n",
       "    </tr>\n",
       "    <tr>\n",
       "      <th>29</th>\n",
       "      <td>2022-12-10</td>\n",
       "      <td>205.8</td>\n",
       "      <td>21</td>\n",
       "      <td>Saturday</td>\n",
       "    </tr>\n",
       "  </tbody>\n",
       "</table>\n",
       "</div>"
      ],
      "text/plain": [
       "    Collection Date  Food Waste Collected  Estimated Earned Compost Created  \\\n",
       "53       2022-11-11                   0.0                                 0   \n",
       "95       2023-01-16                   0.0                                 0   \n",
       "114      2022-09-05                   0.0                                 0   \n",
       "97       2022-02-09                  59.0                                 6   \n",
       "36       2022-02-16                 102.8                                10   \n",
       "63       2022-02-21                 183.8                                18   \n",
       "61       2022-02-11                 197.0                                20   \n",
       "39       2022-04-15                 200.8                                20   \n",
       "62       2022-02-18                 202.8                                20   \n",
       "29       2022-12-10                 205.8                                21   \n",
       "\n",
       "    Day of Week  \n",
       "53       Friday  \n",
       "95       Monday  \n",
       "114      Monday  \n",
       "97    Wednesday  \n",
       "36    Wednesday  \n",
       "63       Monday  \n",
       "61       Friday  \n",
       "39       Friday  \n",
       "62       Friday  \n",
       "29     Saturday  "
      ]
     },
     "execution_count": 17,
     "metadata": {},
     "output_type": "execute_result"
    }
   ],
   "source": [
    "df_csv.nsmallest(10,'Food Waste Collected')"
   ]
  },
  {
   "cell_type": "code",
   "execution_count": 18,
   "metadata": {},
   "outputs": [
    {
     "data": {
      "text/plain": [
       "<Axes: >"
      ]
     },
     "execution_count": 18,
     "metadata": {},
     "output_type": "execute_result"
    },
    {
     "data": {
      "image/png": "[encoded data removed]",
      "text/plain": [
       "<Figure size 640x480 with 1 Axes>"
      ]
     },
     "metadata": {},
     "output_type": "display_data"
    }
   ],
   "source": [
    "df_csv.plot()"
   ]
  },
  {
   "attachments": {},
   "cell_type": "markdown",
   "metadata": {},
   "source": [
    "## You Have to Make sure the `pandas` parses your dates"
   ]
  },
  {
   "cell_type": "code",
   "execution_count": 19,
   "metadata": {},
   "outputs": [],
   "source": [
    "df_csv_parsed_dates = pd.read_csv('../data/food-waste-pilot/food-waste-pilot.csv', parse_dates=True, index_col=\"Collection Date\")"
   ]
  },
  {
   "cell_type": "code",
   "execution_count": 20,
   "metadata": {},
   "outputs": [
    {
     "data": {
      "text/plain": [
       "<Axes: xlabel='Collection Date'>"
      ]
     },
     "execution_count": 20,
     "metadata": {},
     "output_type": "execute_result"
    },
    {
     "data": {
      "image/png": "[encoded data removed]",
      "text/plain": [
       "<Figure size 640x480 with 1 Axes>"
      ]
     },
     "metadata": {},
     "output_type": "display_data"
    }
   ],
   "source": [
    "df_csv_parsed_dates.plot()"
   ]
  }
 ],
 "metadata": {
  "kernelspec": {
   "display_name": "cary_dev",
   "language": "python",
   "name": "python3"
  },
  "language_info": {
   "codemirror_mode": {
    "name": "ipython",
    "version": 3
   },
   "file_extension": ".py",
   "mimetype": "text/x-python",
   "name": "python",
   "nbconvert_exporter": "python",
   "pygments_lexer": "ipython3",
   "version": "3.11.3"
  },
  "vscode": {
   "interpreter": {
    "hash": "71fb11914f94fc2c90e6061170f2222c8b50268100b040249549820f4859e21e"
   }
  }
 },
 "nbformat": 4,
 "nbformat_minor": 4
}
