{
 "cells": [
  {
   "attachments": {},
   "cell_type": "markdown",
   "metadata": {},
   "source": [
    "# An Introduction to Jupyter Notebooks\n",
    "\n",
    "Jupyter Notebooks are a file format that you can execute and explain your code in a step-wise format. Jupyter Notebooks support not only code execution in Python, but a variety of languages as long as you have the proper kernel installed that will interpret your code.\n",
    "\n",
    "We can write in Markdown to write text with some level of control over your formatting. [Here's a link to a Medium article detailing <em>all</em> you can do with Markdown styling in Jupyter Notebooks.](https://medium.com/analytics-vidhya/the-ultimate-markdown-guide-for-jupyter-notebook-d5e5abf728fd)\n",
    "\n",
    "We'll covering the following\n",
    "- Importing different files and filetypes with [```pandas```](https://pandas.pydata.org/docs/index.html)\n",
    "- Basic Statistical Analysis of tabular data with ```pandas``` and ```numpy```\n",
    "- Creating Charts with python packages from the [Plotly](https://plotly.com/python/) & [HoloViz Ecosystem](https://holoviz.org/background.html#background-why-holoviz)\n",
    "\n",
    "![EvidenceOfLearning](../images/learning.gif)"
   ]
  },
  {
   "attachments": {},
   "cell_type": "markdown",
   "metadata": {},
   "source": [
    "Step 1: Import ```pandas``` into your python program."
   ]
  },
  {
   "cell_type": "code",
   "execution_count": 1,
   "metadata": {},
   "outputs": [],
   "source": [
    "import pandas as pd\n",
    "\n",
    "# This will import the pandas package into your Python program."
   ]
  },
  {
   "attachments": {},
   "cell_type": "markdown",
   "metadata": {},
   "source": []
  }
 ],
 "metadata": {
  "kernelspec": {
   "display_name": "Python 3",
   "language": "python",
   "name": "python3"
  },
  "language_info": {
   "codemirror_mode": {
    "name": "ipython",
    "version": 3
   },
   "file_extension": ".py",
   "mimetype": "text/x-python",
   "name": "python",
   "nbconvert_exporter": "python",
   "pygments_lexer": "ipython3",
   "version": "3.10.6"
  },
  "orig_nbformat": 4,
  "vscode": {
   "interpreter": {
    "hash": "916dbcbb3f70747c44a77c7bcd40155683ae19c65e1c03b4aa3499c5328201f1"
   }
  }
 },
 "nbformat": 4,
 "nbformat_minor": 2
}
